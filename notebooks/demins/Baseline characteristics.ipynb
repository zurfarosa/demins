{
 "cells": [
  {
   "cell_type": "code",
   "execution_count": 1,
   "metadata": {
    "scrolled": true
   },
   "outputs": [],
   "source": [
    "%load_ext autoreload\n",
    "%autoreload 2"
   ]
  },
  {
   "cell_type": "code",
   "execution_count": 2,
   "metadata": {
    "scrolled": true
   },
   "outputs": [
    {
     "name": "stdout",
     "output_type": "stream",
     "text": [
      "/Users/zurfarosa/demres\n"
     ]
    }
   ],
   "source": [
    "cd ~/demres"
   ]
  },
  {
   "cell_type": "code",
   "execution_count": 3,
   "metadata": {
    "scrolled": true
   },
   "outputs": [],
   "source": [
    "import os\n",
    "import sys\n",
    "\n",
    "module_path = os.path.abspath(os.path.join('..'))\n",
    "if module_path not in sys.path:\n",
    "    sys.path.append(module_path)\n",
    "\n",
    "import pandas as pd\n",
    "import numpy as np\n",
    "from datetime import date, timedelta\n",
    "\n",
    "import demres\n",
    "from demres.common.constants import entry_type\n",
    "from demres.demins.constants import Study_Design as sd\n",
    "from demres.common import codelists\n",
    "from demres.common.helper_functions import *\n",
    "from demres.demins.statistical_functions import *"
   ]
  },
  {
   "cell_type": "code",
   "execution_count": 4,
   "metadata": {
    "scrolled": true
   },
   "outputs": [],
   "source": [
    "pd.set_option('display.max_columns', None)\n",
    "pd.options.display.max_rows = 500"
   ]
  },
  {
   "cell_type": "code",
   "execution_count": 5,
   "metadata": {},
   "outputs": [
    {
     "data": {
      "text/plain": [
       "{'name': '10_to_5', 'start_year': -10}"
      ]
     },
     "execution_count": 5,
     "metadata": {},
     "output_type": "execute_result"
    }
   ],
   "source": [
    "sd.exposure_windows[1]"
   ]
  },
  {
   "cell_type": "code",
   "execution_count": 6,
   "metadata": {},
   "outputs": [],
   "source": [
    "for window in [sd.exposure_windows[1]]:\n",
    "    pt_features = pd.read_csv('data/processed_data/pt_features_avoid_specific_dementia_' + window['name'] +'.csv',delimiter=',',parse_dates=['index_date','data_end','data_start'],infer_datetime_format=True)\n",
    "    pt_features = convert_final_dementia_dx_from_medcode_to_readcode(pt_features)\n",
    "    pt_features = add_final_dementia_medcode_dummies(pt_features)\n",
    "#     display(pt_features.sample(15))\n",
    "\n",
    "    \n",
    "    \n",
    "    "
   ]
  },
  {
   "cell_type": "code",
   "execution_count": 7,
   "metadata": {},
   "outputs": [],
   "source": [
    "columns_for_inclusion = [\n",
    "    'age_at_index_date',\n",
    "    'female',\n",
    "    'stroke',\n",
    "    'heart_failure',\n",
    "    'mental_illness',\n",
    "    'sleep_apnoea', \n",
    "    \n",
    "    'chronic_pulmonary_disease', \n",
    "    'hypnotics_100_pdds',\n",
    "    'insomnia',\n",
    "    'age_at_index_date:65-69', 'age_at_index_date:70-74',\n",
    "    'age_at_index_date:75-79', 'age_at_index_date:80-84',\n",
    "    'age_at_index_date:85-89', 'age_at_index_date:90-99',\n",
    "    'age_at_index_date:above_99', \n",
    "    'hypnotics_100_pdds','hypnotic_pdds:00000',\n",
    "    'hypnotic_pdds:00001_10', 'hypnotic_pdds:00011_100',\n",
    "    'hypnotic_pdds:00101_1000', 'hypnotic_pdds:01001_10000',\n",
    "    'hypnotic_pdds:10000_and_above',\n",
    "    'dx_Alzheimers','dx_non-specific','dx_vascular',\n",
    "    'dx_mixed'\n",
    "]"
   ]
  },
  {
   "cell_type": "code",
   "execution_count": 8,
   "metadata": {
    "scrolled": true
   },
   "outputs": [
    {
     "data": {
      "text/markdown": [
       "**10_to_5**"
      ],
      "text/plain": [
       "<IPython.core.display.Markdown object>"
      ]
     },
     "metadata": {},
     "output_type": "display_data"
    },
    {
     "name": "stdout",
     "output_type": "stream",
     "text": [
      "Index(['patid', 'yob', 'pracid', 'female', 'index_date', 'isCase',\n",
      "       'final dementia medcode', 'data_end', 'data_start', 'matchid',\n",
      "       'age_at_index_date', 'insomnia', 'stroke', 'heart_failure',\n",
      "       'mental_illness', 'sleep_apnoea', 'chronic_pulmonary_disease',\n",
      "       'hypnotics_100_pdds', 'age_at_index_date:65-69',\n",
      "       'age_at_index_date:70-74', 'age_at_index_date:75-79',\n",
      "       'age_at_index_date:80-84', 'age_at_index_date:85-89',\n",
      "       'age_at_index_date:90-99', 'age_at_index_date:above_99',\n",
      "       'hypnotic_pdds:00000', 'hypnotic_pdds:00001_10',\n",
      "       'hypnotic_pdds:00011_100', 'hypnotic_pdds:00101_1000',\n",
      "       'hypnotic_pdds:01001_10000', 'hypnotic_pdds:10000_and_above',\n",
      "       'final dementia Readcode', 'dx_Alzheimers', 'dx_mixed',\n",
      "       'dx_non-specific', 'dx_vascular'],\n",
      "      dtype='object')\n",
      "Number of cases: 12879\n"
     ]
    },
    {
     "data": {
      "text/html": [
       "<div>\n",
       "<style scoped>\n",
       "    .dataframe tbody tr th:only-of-type {\n",
       "        vertical-align: middle;\n",
       "    }\n",
       "\n",
       "    .dataframe tbody tr th {\n",
       "        vertical-align: top;\n",
       "    }\n",
       "\n",
       "    .dataframe thead th {\n",
       "        text-align: right;\n",
       "    }\n",
       "</style>\n",
       "<table border=\"1\" class=\"dataframe\">\n",
       "  <thead>\n",
       "    <tr style=\"text-align: right;\">\n",
       "      <th></th>\n",
       "      <th>Cases</th>\n",
       "      <th>Controls</th>\n",
       "    </tr>\n",
       "  </thead>\n",
       "  <tbody>\n",
       "    <tr>\n",
       "      <th>female</th>\n",
       "      <td>8552 (66.4%)</td>\n",
       "      <td>8552 (66.4%)</td>\n",
       "    </tr>\n",
       "    <tr>\n",
       "      <th>stroke</th>\n",
       "      <td>1431 (11.1%)</td>\n",
       "      <td>959 (7.4%)</td>\n",
       "    </tr>\n",
       "    <tr>\n",
       "      <th>heart_failure</th>\n",
       "      <td>764 (5.9%)</td>\n",
       "      <td>618 (4.8%)</td>\n",
       "    </tr>\n",
       "    <tr>\n",
       "      <th>mental_illness</th>\n",
       "      <td>4766 (37.0%)</td>\n",
       "      <td>3019 (23.4%)</td>\n",
       "    </tr>\n",
       "    <tr>\n",
       "      <th>sleep_apnoea</th>\n",
       "      <td>22 (0.2%)</td>\n",
       "      <td>17 (0.1%)</td>\n",
       "    </tr>\n",
       "    <tr>\n",
       "      <th>chronic_pulmonary_disease</th>\n",
       "      <td>2944 (22.9%)</td>\n",
       "      <td>2114 (16.4%)</td>\n",
       "    </tr>\n",
       "    <tr>\n",
       "      <th>insomnia</th>\n",
       "      <td>926 (7.2%)</td>\n",
       "      <td>580 (4.5%)</td>\n",
       "    </tr>\n",
       "    <tr>\n",
       "      <th>age_at_index_date:65-69</th>\n",
       "      <td>452 (3.5%)</td>\n",
       "      <td>452 (3.5%)</td>\n",
       "    </tr>\n",
       "    <tr>\n",
       "      <th>age_at_index_date:70-74</th>\n",
       "      <td>1161 (9.0%)</td>\n",
       "      <td>1161 (9.0%)</td>\n",
       "    </tr>\n",
       "    <tr>\n",
       "      <th>age_at_index_date:75-79</th>\n",
       "      <td>2513 (19.5%)</td>\n",
       "      <td>2513 (19.5%)</td>\n",
       "    </tr>\n",
       "    <tr>\n",
       "      <th>age_at_index_date:80-84</th>\n",
       "      <td>3621 (28.1%)</td>\n",
       "      <td>3621 (28.1%)</td>\n",
       "    </tr>\n",
       "    <tr>\n",
       "      <th>age_at_index_date:85-89</th>\n",
       "      <td>3385 (26.3%)</td>\n",
       "      <td>3385 (26.3%)</td>\n",
       "    </tr>\n",
       "    <tr>\n",
       "      <th>age_at_index_date:90-99</th>\n",
       "      <td>1429 (11.1%)</td>\n",
       "      <td>1429 (11.1%)</td>\n",
       "    </tr>\n",
       "    <tr>\n",
       "      <th>age_at_index_date:above_99</th>\n",
       "      <td>18 (0.1%)</td>\n",
       "      <td>18 (0.1%)</td>\n",
       "    </tr>\n",
       "    <tr>\n",
       "      <th>hypnotic_pdds:00000</th>\n",
       "      <td>11063 (85.9%)</td>\n",
       "      <td>11546 (89.6%)</td>\n",
       "    </tr>\n",
       "    <tr>\n",
       "      <th>hypnotic_pdds:00001_10</th>\n",
       "      <td>235 (1.8%)</td>\n",
       "      <td>199 (1.5%)</td>\n",
       "    </tr>\n",
       "    <tr>\n",
       "      <th>hypnotic_pdds:00011_100</th>\n",
       "      <td>675 (5.2%)</td>\n",
       "      <td>521 (4.0%)</td>\n",
       "    </tr>\n",
       "    <tr>\n",
       "      <th>hypnotic_pdds:00101_1000</th>\n",
       "      <td>428 (3.3%)</td>\n",
       "      <td>308 (2.4%)</td>\n",
       "    </tr>\n",
       "    <tr>\n",
       "      <th>hypnotic_pdds:01001_10000</th>\n",
       "      <td>478 (3.7%)</td>\n",
       "      <td>303 (2.4%)</td>\n",
       "    </tr>\n",
       "    <tr>\n",
       "      <th>hypnotic_pdds:10000_and_above</th>\n",
       "      <td>0 (0.0%)</td>\n",
       "      <td>2 (0.0%)</td>\n",
       "    </tr>\n",
       "    <tr>\n",
       "      <th>dx_Alzheimers</th>\n",
       "      <td>4513 (35.0%)</td>\n",
       "      <td>0 (0.0%)</td>\n",
       "    </tr>\n",
       "    <tr>\n",
       "      <th>dx_non-specific</th>\n",
       "      <td>4567 (35.5%)</td>\n",
       "      <td>0 (0.0%)</td>\n",
       "    </tr>\n",
       "    <tr>\n",
       "      <th>dx_vascular</th>\n",
       "      <td>3723 (28.9%)</td>\n",
       "      <td>0 (0.0%)</td>\n",
       "    </tr>\n",
       "    <tr>\n",
       "      <th>dx_mixed</th>\n",
       "      <td>76 (0.6%)</td>\n",
       "      <td>0 (0.0%)</td>\n",
       "    </tr>\n",
       "  </tbody>\n",
       "</table>\n",
       "</div>"
      ],
      "text/plain": [
       "                                       Cases       Controls\n",
       "female                          8552 (66.4%)   8552 (66.4%)\n",
       "stroke                          1431 (11.1%)     959 (7.4%)\n",
       "heart_failure                     764 (5.9%)     618 (4.8%)\n",
       "mental_illness                  4766 (37.0%)   3019 (23.4%)\n",
       "sleep_apnoea                       22 (0.2%)      17 (0.1%)\n",
       "chronic_pulmonary_disease       2944 (22.9%)   2114 (16.4%)\n",
       "insomnia                          926 (7.2%)     580 (4.5%)\n",
       "age_at_index_date:65-69           452 (3.5%)     452 (3.5%)\n",
       "age_at_index_date:70-74          1161 (9.0%)    1161 (9.0%)\n",
       "age_at_index_date:75-79         2513 (19.5%)   2513 (19.5%)\n",
       "age_at_index_date:80-84         3621 (28.1%)   3621 (28.1%)\n",
       "age_at_index_date:85-89         3385 (26.3%)   3385 (26.3%)\n",
       "age_at_index_date:90-99         1429 (11.1%)   1429 (11.1%)\n",
       "age_at_index_date:above_99         18 (0.1%)      18 (0.1%)\n",
       "hypnotic_pdds:00000            11063 (85.9%)  11546 (89.6%)\n",
       "hypnotic_pdds:00001_10            235 (1.8%)     199 (1.5%)\n",
       "hypnotic_pdds:00011_100           675 (5.2%)     521 (4.0%)\n",
       "hypnotic_pdds:00101_1000          428 (3.3%)     308 (2.4%)\n",
       "hypnotic_pdds:01001_10000         478 (3.7%)     303 (2.4%)\n",
       "hypnotic_pdds:10000_and_above       0 (0.0%)       2 (0.0%)\n",
       "dx_Alzheimers                   4513 (35.0%)       0 (0.0%)\n",
       "dx_non-specific                 4567 (35.5%)       0 (0.0%)\n",
       "dx_vascular                     3723 (28.9%)       0 (0.0%)\n",
       "dx_mixed                           76 (0.6%)       0 (0.0%)"
      ]
     },
     "metadata": {},
     "output_type": "display_data"
    }
   ],
   "source": [
    "for window in [sd.exposure_windows[1]]:\n",
    "    printbold(window['name'])\n",
    "    print(pt_features.columns)\n",
    "    print('Number of cases: ' + str(len(pt_features[pt_features['isCase']==True])))\n",
    "#     display(pt_features.sample(3))\n",
    "#     print(list(pt_features.columns))\n",
    "    baselines = add_baseline_characteristics(columns_for_inclusion,pt_features)\n",
    "    display(baselines[['Cases','Controls']])"
   ]
  },
  {
   "cell_type": "code",
   "execution_count": null,
   "metadata": {},
   "outputs": [],
   "source": []
  }
 ],
 "metadata": {
  "kernelspec": {
   "display_name": "toadkern2",
   "language": "python",
   "name": "toadkern2"
  },
  "language_info": {
   "codemirror_mode": {
    "name": "ipython",
    "version": 3
   },
   "file_extension": ".py",
   "mimetype": "text/x-python",
   "name": "python",
   "nbconvert_exporter": "python",
   "pygments_lexer": "ipython3",
   "version": "3.7.0"
  }
 },
 "nbformat": 4,
 "nbformat_minor": 2
}
